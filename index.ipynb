{
 "cells": [
  {
   "cell_type": "code",
   "execution_count": 317,
   "metadata": {},
   "outputs": [],
   "source": [
    "import requests\n",
    "import re\n",
    "import scrapy\n",
    "import pandas as pd"
   ]
  },
  {
   "cell_type": "markdown",
   "metadata": {},
   "source": [
    "Various URLs from Earther with different formatting - test cases for the Earther scraper.\n"
   ]
  },
  {
   "cell_type": "code",
   "execution_count": 282,
   "metadata": {},
   "outputs": [],
   "source": [
    "url = 'http://earther.gizmodo.com/exxonmobil-wishes-australia-a-happy-new-year-as-country-1840758432'\n",
    "url = 'https://earther.gizmodo.com/theres-several-orders-of-magnitude-more-plastic-in-rive-1840538231'\n",
    "url = 'https://deadspin.com/how-did-no-one-notice-this-inspirational-hiker-on-the-p-1818647235'\n",
    "url = 'https://jalopnik.com/its-time-to-let-go-of-commuter-culture-1840630621'\n",
    "url = 'https://earther.gizmodo.com/climate-change-stole-the-show-at-the-golden-globes-1840830510'\n",
    "response = requests.get(url)\n",
    "scrap = scrapy.http.HtmlResponse(url=url, \n",
    "                                 request=scrapy.http.Request(url), body=response.text, encoding='utf-8')"
   ]
  },
  {
   "cell_type": "markdown",
   "metadata": {},
   "source": [
    "The Earther webcrawler added 3015 articles to the MongoDB (articles collection in items)."
   ]
  },
  {
   "cell_type": "code",
   "execution_count": 284,
   "metadata": {},
   "outputs": [],
   "source": [
    "url = 'https://www.dailykos.com/news/Climate'\n",
    "response = requests.get(url)\n",
    "scrap = scrapy.http.HtmlResponse(url=url, \n",
    "                                 request=scrapy.http.Request(url), body=response.text, encoding='utf-8')"
   ]
  },
  {
   "cell_type": "code",
   "execution_count": 300,
   "metadata": {},
   "outputs": [
    {
     "data": {
      "text/plain": [
       "'/part/story/table/by_tag?tag_id=35567&page=1'"
      ]
     },
     "execution_count": 300,
     "metadata": {},
     "output_type": "execute_result"
    }
   ],
   "source": [
    "scrap.css(\".nav-wrapper a::attr(href)\").get()"
   ]
  },
  {
   "cell_type": "code",
   "execution_count": 301,
   "metadata": {},
   "outputs": [],
   "source": [
    "import pymongo"
   ]
  },
  {
   "cell_type": "code",
   "execution_count": 302,
   "metadata": {},
   "outputs": [
    {
     "name": "stdout",
     "output_type": "stream",
     "text": [
      "['admin', 'config', 'example_data', 'example_database', 'items', 'lab_db', 'local']\n"
     ]
    }
   ],
   "source": [
    "myclient = pymongo.MongoClient(\"mongodb://127.0.0.1:27017/\")\n",
    "mydb = myclient['items']"
   ]
  },
  {
   "cell_type": "code",
   "execution_count": 303,
   "metadata": {},
   "outputs": [],
   "source": [
    "mycollection = mydb['articles']"
   ]
  },
  {
   "cell_type": "code",
   "execution_count": 308,
   "metadata": {},
   "outputs": [],
   "source": [
    "q = mycollection.find({'author': 'Yessenia Funes'})"
   ]
  },
  {
   "cell_type": "code",
   "execution_count": 313,
   "metadata": {},
   "outputs": [],
   "source": [
    "from pandas.io.json import json_normalize"
   ]
  },
  {
   "cell_type": "code",
   "execution_count": 375,
   "metadata": {},
   "outputs": [
    {
     "data": {
      "text/html": [
       "<div>\n",
       "<style scoped>\n",
       "    .dataframe tbody tr th:only-of-type {\n",
       "        vertical-align: middle;\n",
       "    }\n",
       "\n",
       "    .dataframe tbody tr th {\n",
       "        vertical-align: top;\n",
       "    }\n",
       "\n",
       "    .dataframe thead th {\n",
       "        text-align: right;\n",
       "    }\n",
       "</style>\n",
       "<table border=\"1\" class=\"dataframe\">\n",
       "  <thead>\n",
       "    <tr style=\"text-align: right;\">\n",
       "      <th></th>\n",
       "      <th>_id</th>\n",
       "      <th>url</th>\n",
       "      <th>title</th>\n",
       "      <th>twitter_url</th>\n",
       "      <th>image</th>\n",
       "      <th>keywords</th>\n",
       "      <th>description</th>\n",
       "      <th>num_like</th>\n",
       "      <th>num_reply</th>\n",
       "      <th>author</th>\n",
       "      <th>author_link</th>\n",
       "      <th>created_at</th>\n",
       "      <th>body_text</th>\n",
       "      <th>body_links</th>\n",
       "    </tr>\n",
       "  </thead>\n",
       "  <tbody>\n",
       "    <tr>\n",
       "      <th>0</th>\n",
       "      <td>5e14bee3f106fd495904e5c5</td>\n",
       "      <td>https://earther.gizmodo.com/the-worlds-largest...</td>\n",
       "      <td>The World's Largest Floating Wind Farm Is Here</td>\n",
       "      <td>https://earther.gizmodo.com/the-worlds-largest...</td>\n",
       "      <td>https://i.kinja-img.com/gawker-media/image/upl...</td>\n",
       "      <td>[Portugal, Earther, Wind Energy, Wind for the ...</td>\n",
       "      <td>This is the second day of the new decade, and ...</td>\n",
       "      <td>13000</td>\n",
       "      <td>34</td>\n",
       "      <td>Yessenia Funes</td>\n",
       "      <td>https://kinja.com/yessfun</td>\n",
       "      <td>2020-01-02 17:00:00-05:00</td>\n",
       "      <td>This is the second day of the new decade, and ...</td>\n",
       "      <td>[http://www.principlepowerinc.com/en/news-pres...</td>\n",
       "    </tr>\n",
       "    <tr>\n",
       "      <th>1</th>\n",
       "      <td>5e14bee3f106fd495904e5c6</td>\n",
       "      <td>https://earther.gizmodo.com/trumps-tremendous-...</td>\n",
       "      <td>Trump's 'Tremendous' Superfund Work Includes N...</td>\n",
       "      <td>https://earther.gizmodo.com/trumps-tremendous-...</td>\n",
       "      <td>https://i.kinja-img.com/gawker-media/image/upl...</td>\n",
       "      <td>[EPA, Donald Trump, Earther, Toxic Legacy, Env...</td>\n",
       "      <td>The Environmental Protection Agency under Dona...</td>\n",
       "      <td>9200</td>\n",
       "      <td>16</td>\n",
       "      <td>Yessenia Funes</td>\n",
       "      <td>https://kinja.com/yessfun</td>\n",
       "      <td>2020-01-03 15:30:00-05:00</td>\n",
       "      <td>The Environmental Protection Agency under Dona...</td>\n",
       "      <td>[https://earther.gizmodo.com/the-epas-superfun...</td>\n",
       "    </tr>\n",
       "    <tr>\n",
       "      <th>2</th>\n",
       "      <td>5e14bee3f106fd495904e5c7</td>\n",
       "      <td>https://lifehacker.com/how-to-help-those-affec...</td>\n",
       "      <td>How to Help Those Affected By the Australian W...</td>\n",
       "      <td>https://lifehacker.com/how-to-help-those-affec...</td>\n",
       "      <td>https://i.kinja-img.com/gawker-media/image/upl...</td>\n",
       "      <td>[Lifehacker, AUSTRALIA, call for help, Fire]</td>\n",
       "      <td>As of Thursday morning, ongoing bushfires have...</td>\n",
       "      <td>15100</td>\n",
       "      <td>12</td>\n",
       "      <td>Josh Ocampo</td>\n",
       "      <td>https://kinja.com/joshocampo</td>\n",
       "      <td>2020-01-02 14:45:00-05:00</td>\n",
       "      <td>As of Thursday morning, ongoing bushfires have...</td>\n",
       "      <td>[https://www.theguardian.com/australia-news/li...</td>\n",
       "    </tr>\n",
       "    <tr>\n",
       "      <th>3</th>\n",
       "      <td>5e14bee3f106fd495904e5c8</td>\n",
       "      <td>https://earther.gizmodo.com/smoke-from-austral...</td>\n",
       "      <td>Smoke From Australia’s Horrific Wildfires, as ...</td>\n",
       "      <td>https://earther.gizmodo.com/smoke-from-austral...</td>\n",
       "      <td>https://i.kinja-img.com/gawker-media/image/upl...</td>\n",
       "      <td>[fires, global warming, Satellite Images, heat...</td>\n",
       "      <td>Significant portions of Australia’s southeast ...</td>\n",
       "      <td>38700</td>\n",
       "      <td>15</td>\n",
       "      <td>George Dvorsky</td>\n",
       "      <td>https://kinja.com/georgedvorsky</td>\n",
       "      <td>2020-01-03 10:10:00-05:00</td>\n",
       "      <td>Significant portions of Australia’s southeast ...</td>\n",
       "      <td>[https://earthobservatory.nasa.gov/images/1460...</td>\n",
       "    </tr>\n",
       "    <tr>\n",
       "      <th>4</th>\n",
       "      <td>5e14bee3f106fd495904e5c9</td>\n",
       "      <td>https://earther.gizmodo.com/earthquake-shows-h...</td>\n",
       "      <td>Earthquake Shows Puerto Rico's Electric Grid I...</td>\n",
       "      <td>https://earther.gizmodo.com/earthquake-shows-h...</td>\n",
       "      <td>https://i.kinja-img.com/gawker-media/image/upl...</td>\n",
       "      <td>[Puerto Rico, Hurricane Maria, Earther, Energy...</td>\n",
       "      <td>Puerto Rico just can’t seem to catch a break. ...</td>\n",
       "      <td>8100</td>\n",
       "      <td>6</td>\n",
       "      <td>Yessenia Funes</td>\n",
       "      <td>https://kinja.com/yessfun</td>\n",
       "      <td>2020-01-06 15:55:00-05:00</td>\n",
       "      <td>Puerto Rico just can’t seem to catch a break. ...</td>\n",
       "      <td>[http://ds.iris.edu/seismon/quakes_today_in_N_...</td>\n",
       "    </tr>\n",
       "  </tbody>\n",
       "</table>\n",
       "</div>"
      ],
      "text/plain": [
       "                        _id  \\\n",
       "0  5e14bee3f106fd495904e5c5   \n",
       "1  5e14bee3f106fd495904e5c6   \n",
       "2  5e14bee3f106fd495904e5c7   \n",
       "3  5e14bee3f106fd495904e5c8   \n",
       "4  5e14bee3f106fd495904e5c9   \n",
       "\n",
       "                                                 url  \\\n",
       "0  https://earther.gizmodo.com/the-worlds-largest...   \n",
       "1  https://earther.gizmodo.com/trumps-tremendous-...   \n",
       "2  https://lifehacker.com/how-to-help-those-affec...   \n",
       "3  https://earther.gizmodo.com/smoke-from-austral...   \n",
       "4  https://earther.gizmodo.com/earthquake-shows-h...   \n",
       "\n",
       "                                               title  \\\n",
       "0     The World's Largest Floating Wind Farm Is Here   \n",
       "1  Trump's 'Tremendous' Superfund Work Includes N...   \n",
       "2  How to Help Those Affected By the Australian W...   \n",
       "3  Smoke From Australia’s Horrific Wildfires, as ...   \n",
       "4  Earthquake Shows Puerto Rico's Electric Grid I...   \n",
       "\n",
       "                                         twitter_url  \\\n",
       "0  https://earther.gizmodo.com/the-worlds-largest...   \n",
       "1  https://earther.gizmodo.com/trumps-tremendous-...   \n",
       "2  https://lifehacker.com/how-to-help-those-affec...   \n",
       "3  https://earther.gizmodo.com/smoke-from-austral...   \n",
       "4  https://earther.gizmodo.com/earthquake-shows-h...   \n",
       "\n",
       "                                               image  \\\n",
       "0  https://i.kinja-img.com/gawker-media/image/upl...   \n",
       "1  https://i.kinja-img.com/gawker-media/image/upl...   \n",
       "2  https://i.kinja-img.com/gawker-media/image/upl...   \n",
       "3  https://i.kinja-img.com/gawker-media/image/upl...   \n",
       "4  https://i.kinja-img.com/gawker-media/image/upl...   \n",
       "\n",
       "                                            keywords  \\\n",
       "0  [Portugal, Earther, Wind Energy, Wind for the ...   \n",
       "1  [EPA, Donald Trump, Earther, Toxic Legacy, Env...   \n",
       "2       [Lifehacker, AUSTRALIA, call for help, Fire]   \n",
       "3  [fires, global warming, Satellite Images, heat...   \n",
       "4  [Puerto Rico, Hurricane Maria, Earther, Energy...   \n",
       "\n",
       "                                         description  num_like  num_reply  \\\n",
       "0  This is the second day of the new decade, and ...     13000         34   \n",
       "1  The Environmental Protection Agency under Dona...      9200         16   \n",
       "2  As of Thursday morning, ongoing bushfires have...     15100         12   \n",
       "3  Significant portions of Australia’s southeast ...     38700         15   \n",
       "4  Puerto Rico just can’t seem to catch a break. ...      8100          6   \n",
       "\n",
       "           author                      author_link                 created_at  \\\n",
       "0  Yessenia Funes        https://kinja.com/yessfun  2020-01-02 17:00:00-05:00   \n",
       "1  Yessenia Funes        https://kinja.com/yessfun  2020-01-03 15:30:00-05:00   \n",
       "2     Josh Ocampo     https://kinja.com/joshocampo  2020-01-02 14:45:00-05:00   \n",
       "3  George Dvorsky  https://kinja.com/georgedvorsky  2020-01-03 10:10:00-05:00   \n",
       "4  Yessenia Funes        https://kinja.com/yessfun  2020-01-06 15:55:00-05:00   \n",
       "\n",
       "                                           body_text  \\\n",
       "0  This is the second day of the new decade, and ...   \n",
       "1  The Environmental Protection Agency under Dona...   \n",
       "2  As of Thursday morning, ongoing bushfires have...   \n",
       "3  Significant portions of Australia’s southeast ...   \n",
       "4  Puerto Rico just can’t seem to catch a break. ...   \n",
       "\n",
       "                                          body_links  \n",
       "0  [http://www.principlepowerinc.com/en/news-pres...  \n",
       "1  [https://earther.gizmodo.com/the-epas-superfun...  \n",
       "2  [https://www.theguardian.com/australia-news/li...  \n",
       "3  [https://earthobservatory.nasa.gov/images/1460...  \n",
       "4  [http://ds.iris.edu/seismon/quakes_today_in_N_...  "
      ]
     },
     "execution_count": 375,
     "metadata": {},
     "output_type": "execute_result"
    }
   ],
   "source": [
    "df = pd.DataFrame(list(mycollection.find({})))\n",
    "df.created_at = pd.to_datetime(df.created_at, infer_datetime_format=True)\n",
    "df.head()"
   ]
  },
  {
   "cell_type": "code",
   "execution_count": 373,
   "metadata": {},
   "outputs": [
    {
     "data": {
      "text/plain": [
       "0       2020-01-02 17:00:00-05:00\n",
       "1       2020-01-03 15:30:00-05:00\n",
       "2       2020-01-02 14:45:00-05:00\n",
       "3       2020-01-03 10:10:00-05:00\n",
       "4       2020-01-06 15:55:00-05:00\n",
       "                  ...            \n",
       "3010    2017-09-27 08:00:00-04:00\n",
       "3011    2017-09-27 15:00:00-04:00\n",
       "3012    2017-09-26 12:00:00-04:00\n",
       "3013    2017-09-28 09:00:00-04:00\n",
       "3014    2017-09-27 12:00:00-04:00\n",
       "Name: created_at, Length: 3015, dtype: object"
      ]
     },
     "execution_count": 373,
     "metadata": {},
     "output_type": "execute_result"
    }
   ],
   "source": [
    "pd.to_datetime(df.created_at)"
   ]
  },
  {
   "cell_type": "code",
   "execution_count": 323,
   "metadata": {},
   "outputs": [],
   "source": [
    "keywords = df.keywords.sum()"
   ]
  },
  {
   "cell_type": "code",
   "execution_count": 366,
   "metadata": {},
   "outputs": [
    {
     "data": {
      "text/plain": [
       "earther                    2536\n",
       "climatechange               668\n",
       "science                     527\n",
       "gizmodo                     294\n",
       "conservation                268\n",
       "                           ... \n",
       "lymedisease                   3\n",
       "nuclearwaste                  3\n",
       "fiatchrysler                  3\n",
       "hurricanemariacontinues       3\n",
       "explainers                    3\n",
       "Length: 856, dtype: int64"
      ]
     },
     "execution_count": 366,
     "metadata": {},
     "output_type": "execute_result"
    }
   ],
   "source": [
    "keyword_count = pd.Series(keywords).str.lower().str.replace(\" \",\"\").value_counts()\n",
    "keyword_count[keyword_count > 2]"
   ]
  },
  {
   "cell_type": "code",
   "execution_count": 340,
   "metadata": {},
   "outputs": [
    {
     "data": {
      "text/plain": [
       "earther                              2536\n",
       "climatechange                         668\n",
       "science                               527\n",
       "gizmodo                               294\n",
       "conservation                          268\n",
       "environmentaljustice                  237\n",
       "weather                               173\n",
       "climate                               160\n",
       "wildfires                             128\n",
       "california                            117\n",
       "epa                                   105\n",
       "environment                           103\n",
       "wildlife                              103\n",
       "trumpadministration                    96\n",
       "weatherishappening                     77\n",
       "ecology                                77\n",
       "antarctica                             76\n",
       "naturaldisasters                       75\n",
       "airpollution                           73\n",
       "globalwarming                          72\n",
       "animals                                72\n",
       "hurricanemaria                         71\n",
       "puertorico                             69\n",
       "pollution                              68\n",
       "iceonthinice                           65\n",
       "oceans                                 63\n",
       "earthsciences                          58\n",
       "oilandgas                              58\n",
       "renewableenergy                        56\n",
       "climatepolicy                          56\n",
       "donaldtrump                            56\n",
       "arctic                                 55\n",
       "wildfireseasonisyearroundnow           53\n",
       "marinebiology                          50\n",
       "greennewdeal                           49\n",
       "australia                              48\n",
       "volcanoes                              48\n",
       "energy                                 48\n",
       "hurricaneseason                        47\n",
       "sealevelrise                           46\n",
       "hurricanes                             46\n",
       "jalopnik                               44\n",
       "alaska                                 44\n",
       "art                                    43\n",
       "scottpruitt                            43\n",
       "politics                               43\n",
       "lifehacker                             42\n",
       "fossilfuels                            42\n",
       "biology                                40\n",
       "flintwatercrisis                       39\n",
       "2020election                           39\n",
       "technology                             39\n",
       "heatwave                               38\n",
       "biodiversity                           38\n",
       "endangeredspecies                      38\n",
       "coal                                   37\n",
       "flooding                               37\n",
       "plastic                                37\n",
       "indigenousrights                       36\n",
       "theycallitglobalwarmingforareason      36\n",
       "plasticpollution                       35\n",
       "extremeweather                         34\n",
       "health                                 34\n",
       "geology                                33\n",
       "greenland                              32\n",
       "coralreefs                             32\n",
       "nasa                                   32\n",
       "birds                                  31\n",
       "geoengineering                         31\n",
       "hawaii                                 31\n",
       "thekidsarealright                      31\n",
       "californiawildfires                    31\n",
       "ryanzinke                              30\n",
       "wildweather                            29\n",
       "publiclands                            29\n",
       "water                                  29\n",
       "meteorology                            29\n",
       "lead                                   28\n",
       "amazonrainforest                       28\n",
       "jezebel                                27\n",
       "gretathunberg                          27\n",
       "cleanenergy                            26\n",
       "glaciers                               25\n",
       "snow                                   25\n",
       "climatejustice                         25\n",
       "campfire                               25\n",
       "sustainability                         25\n",
       "nature                                 25\n",
       "nationalparks                          24\n",
       "satellites                             24\n",
       "carbonemissions                        24\n",
       "climatestrike                          24\n",
       "florida                                24\n",
       "brazil                                 24\n",
       "india                                  24\n",
       "publichealth                           24\n",
       "photography                            23\n",
       "kilauea                                23\n",
       "disasters                              23\n",
       "whales                                 23\n",
       "dtype: int64"
      ]
     },
     "execution_count": 340,
     "metadata": {},
     "output_type": "execute_result"
    }
   ],
   "source": [
    "pd.set_option('display.max_rows', 100)\n",
    "pd.Series(keywords).str.lower().str.replace(\" \",\"\").value_counts().head(100)"
   ]
  },
  {
   "cell_type": "code",
   "execution_count": 341,
   "metadata": {},
   "outputs": [],
   "source": [
    "import nltk\n",
    "from nltk.corpus import stopwords\n",
    "import string\n",
    "from nltk import word_tokenize, FreqDist\n"
   ]
  },
  {
   "cell_type": "code",
   "execution_count": 355,
   "metadata": {},
   "outputs": [],
   "source": [
    "stopwords_list = stopwords.words('english') + list(string.punctuation) + [\"''\", '\"\"', '...', '``','’','“','”']\n",
    "\n",
    "def process_article(article):\n",
    "    tokens = nltk.word_tokenize(article)\n",
    "    stopwords_removed = [token.lower() for token in tokens if token.lower() not in stopwords_list]\n",
    "    return stopwords_removed    "
   ]
  },
  {
   "cell_type": "code",
   "execution_count": 356,
   "metadata": {},
   "outputs": [],
   "source": [
    "df['tokens'] = df.body_text.map(process_article)"
   ]
  },
  {
   "cell_type": "code",
   "execution_count": 348,
   "metadata": {},
   "outputs": [
    {
     "data": {
      "text/html": [
       "<div>\n",
       "<style scoped>\n",
       "    .dataframe tbody tr th:only-of-type {\n",
       "        vertical-align: middle;\n",
       "    }\n",
       "\n",
       "    .dataframe tbody tr th {\n",
       "        vertical-align: top;\n",
       "    }\n",
       "\n",
       "    .dataframe thead th {\n",
       "        text-align: right;\n",
       "    }\n",
       "</style>\n",
       "<table border=\"1\" class=\"dataframe\">\n",
       "  <thead>\n",
       "    <tr style=\"text-align: right;\">\n",
       "      <th></th>\n",
       "      <th>_id</th>\n",
       "      <th>url</th>\n",
       "      <th>title</th>\n",
       "      <th>twitter_url</th>\n",
       "      <th>image</th>\n",
       "      <th>keywords</th>\n",
       "      <th>description</th>\n",
       "      <th>num_like</th>\n",
       "      <th>num_reply</th>\n",
       "      <th>author</th>\n",
       "      <th>author_link</th>\n",
       "      <th>created_at</th>\n",
       "      <th>body_text</th>\n",
       "      <th>body_links</th>\n",
       "      <th>tokens</th>\n",
       "    </tr>\n",
       "  </thead>\n",
       "  <tbody>\n",
       "    <tr>\n",
       "      <th>0</th>\n",
       "      <td>5e14bee3f106fd495904e5c5</td>\n",
       "      <td>https://earther.gizmodo.com/the-worlds-largest...</td>\n",
       "      <td>The World's Largest Floating Wind Farm Is Here</td>\n",
       "      <td>https://earther.gizmodo.com/the-worlds-largest...</td>\n",
       "      <td>https://i.kinja-img.com/gawker-media/image/upl...</td>\n",
       "      <td>[Portugal, Earther, Wind Energy, Wind for the ...</td>\n",
       "      <td>This is the second day of the new decade, and ...</td>\n",
       "      <td>13000</td>\n",
       "      <td>34</td>\n",
       "      <td>Yessenia Funes</td>\n",
       "      <td>https://kinja.com/yessfun</td>\n",
       "      <td>2020-01-02T17:00:00-05:00</td>\n",
       "      <td>This is the second day of the new decade, and ...</td>\n",
       "      <td>[http://www.principlepowerinc.com/en/news-pres...</td>\n",
       "      <td>[second, day, new, decade, world, largest, flo...</td>\n",
       "    </tr>\n",
       "    <tr>\n",
       "      <th>1</th>\n",
       "      <td>5e14bee3f106fd495904e5c6</td>\n",
       "      <td>https://earther.gizmodo.com/trumps-tremendous-...</td>\n",
       "      <td>Trump's 'Tremendous' Superfund Work Includes N...</td>\n",
       "      <td>https://earther.gizmodo.com/trumps-tremendous-...</td>\n",
       "      <td>https://i.kinja-img.com/gawker-media/image/upl...</td>\n",
       "      <td>[EPA, Donald Trump, Earther, Toxic Legacy, Env...</td>\n",
       "      <td>The Environmental Protection Agency under Dona...</td>\n",
       "      <td>9200</td>\n",
       "      <td>16</td>\n",
       "      <td>Yessenia Funes</td>\n",
       "      <td>https://kinja.com/yessfun</td>\n",
       "      <td>2020-01-03T15:30:00-05:00</td>\n",
       "      <td>The Environmental Protection Agency under Dona...</td>\n",
       "      <td>[https://earther.gizmodo.com/the-epas-superfun...</td>\n",
       "      <td>[environmental, protection, agency, donald, tr...</td>\n",
       "    </tr>\n",
       "    <tr>\n",
       "      <th>2</th>\n",
       "      <td>5e14bee3f106fd495904e5c7</td>\n",
       "      <td>https://lifehacker.com/how-to-help-those-affec...</td>\n",
       "      <td>How to Help Those Affected By the Australian W...</td>\n",
       "      <td>https://lifehacker.com/how-to-help-those-affec...</td>\n",
       "      <td>https://i.kinja-img.com/gawker-media/image/upl...</td>\n",
       "      <td>[Lifehacker, AUSTRALIA, call for help, Fire]</td>\n",
       "      <td>As of Thursday morning, ongoing bushfires have...</td>\n",
       "      <td>15100</td>\n",
       "      <td>12</td>\n",
       "      <td>Josh Ocampo</td>\n",
       "      <td>https://kinja.com/joshocampo</td>\n",
       "      <td>2020-01-02T14:45:00-05:00</td>\n",
       "      <td>As of Thursday morning, ongoing bushfires have...</td>\n",
       "      <td>[https://www.theguardian.com/australia-news/li...</td>\n",
       "      <td>[thursday, morning, ongoing, bushfires, contin...</td>\n",
       "    </tr>\n",
       "    <tr>\n",
       "      <th>3</th>\n",
       "      <td>5e14bee3f106fd495904e5c8</td>\n",
       "      <td>https://earther.gizmodo.com/smoke-from-austral...</td>\n",
       "      <td>Smoke From Australia’s Horrific Wildfires, as ...</td>\n",
       "      <td>https://earther.gizmodo.com/smoke-from-austral...</td>\n",
       "      <td>https://i.kinja-img.com/gawker-media/image/upl...</td>\n",
       "      <td>[fires, global warming, Satellite Images, heat...</td>\n",
       "      <td>Significant portions of Australia’s southeast ...</td>\n",
       "      <td>38700</td>\n",
       "      <td>15</td>\n",
       "      <td>George Dvorsky</td>\n",
       "      <td>https://kinja.com/georgedvorsky</td>\n",
       "      <td>2020-01-03T10:10:00-05:00</td>\n",
       "      <td>Significant portions of Australia’s southeast ...</td>\n",
       "      <td>[https://earthobservatory.nasa.gov/images/1460...</td>\n",
       "      <td>[significant, portions, australia, southeast, ...</td>\n",
       "    </tr>\n",
       "    <tr>\n",
       "      <th>4</th>\n",
       "      <td>5e14bee3f106fd495904e5c9</td>\n",
       "      <td>https://earther.gizmodo.com/earthquake-shows-h...</td>\n",
       "      <td>Earthquake Shows Puerto Rico's Electric Grid I...</td>\n",
       "      <td>https://earther.gizmodo.com/earthquake-shows-h...</td>\n",
       "      <td>https://i.kinja-img.com/gawker-media/image/upl...</td>\n",
       "      <td>[Puerto Rico, Hurricane Maria, Earther, Energy...</td>\n",
       "      <td>Puerto Rico just can’t seem to catch a break. ...</td>\n",
       "      <td>8100</td>\n",
       "      <td>6</td>\n",
       "      <td>Yessenia Funes</td>\n",
       "      <td>https://kinja.com/yessfun</td>\n",
       "      <td>2020-01-06T15:55:00-05:00</td>\n",
       "      <td>Puerto Rico just can’t seem to catch a break. ...</td>\n",
       "      <td>[http://ds.iris.edu/seismon/quakes_today_in_N_...</td>\n",
       "      <td>[puerto, rico, seem, catch, break, people, isl...</td>\n",
       "    </tr>\n",
       "  </tbody>\n",
       "</table>\n",
       "</div>"
      ],
      "text/plain": [
       "                        _id  \\\n",
       "0  5e14bee3f106fd495904e5c5   \n",
       "1  5e14bee3f106fd495904e5c6   \n",
       "2  5e14bee3f106fd495904e5c7   \n",
       "3  5e14bee3f106fd495904e5c8   \n",
       "4  5e14bee3f106fd495904e5c9   \n",
       "\n",
       "                                                 url  \\\n",
       "0  https://earther.gizmodo.com/the-worlds-largest...   \n",
       "1  https://earther.gizmodo.com/trumps-tremendous-...   \n",
       "2  https://lifehacker.com/how-to-help-those-affec...   \n",
       "3  https://earther.gizmodo.com/smoke-from-austral...   \n",
       "4  https://earther.gizmodo.com/earthquake-shows-h...   \n",
       "\n",
       "                                               title  \\\n",
       "0     The World's Largest Floating Wind Farm Is Here   \n",
       "1  Trump's 'Tremendous' Superfund Work Includes N...   \n",
       "2  How to Help Those Affected By the Australian W...   \n",
       "3  Smoke From Australia’s Horrific Wildfires, as ...   \n",
       "4  Earthquake Shows Puerto Rico's Electric Grid I...   \n",
       "\n",
       "                                         twitter_url  \\\n",
       "0  https://earther.gizmodo.com/the-worlds-largest...   \n",
       "1  https://earther.gizmodo.com/trumps-tremendous-...   \n",
       "2  https://lifehacker.com/how-to-help-those-affec...   \n",
       "3  https://earther.gizmodo.com/smoke-from-austral...   \n",
       "4  https://earther.gizmodo.com/earthquake-shows-h...   \n",
       "\n",
       "                                               image  \\\n",
       "0  https://i.kinja-img.com/gawker-media/image/upl...   \n",
       "1  https://i.kinja-img.com/gawker-media/image/upl...   \n",
       "2  https://i.kinja-img.com/gawker-media/image/upl...   \n",
       "3  https://i.kinja-img.com/gawker-media/image/upl...   \n",
       "4  https://i.kinja-img.com/gawker-media/image/upl...   \n",
       "\n",
       "                                            keywords  \\\n",
       "0  [Portugal, Earther, Wind Energy, Wind for the ...   \n",
       "1  [EPA, Donald Trump, Earther, Toxic Legacy, Env...   \n",
       "2       [Lifehacker, AUSTRALIA, call for help, Fire]   \n",
       "3  [fires, global warming, Satellite Images, heat...   \n",
       "4  [Puerto Rico, Hurricane Maria, Earther, Energy...   \n",
       "\n",
       "                                         description  num_like  num_reply  \\\n",
       "0  This is the second day of the new decade, and ...     13000         34   \n",
       "1  The Environmental Protection Agency under Dona...      9200         16   \n",
       "2  As of Thursday morning, ongoing bushfires have...     15100         12   \n",
       "3  Significant portions of Australia’s southeast ...     38700         15   \n",
       "4  Puerto Rico just can’t seem to catch a break. ...      8100          6   \n",
       "\n",
       "           author                      author_link                 created_at  \\\n",
       "0  Yessenia Funes        https://kinja.com/yessfun  2020-01-02T17:00:00-05:00   \n",
       "1  Yessenia Funes        https://kinja.com/yessfun  2020-01-03T15:30:00-05:00   \n",
       "2     Josh Ocampo     https://kinja.com/joshocampo  2020-01-02T14:45:00-05:00   \n",
       "3  George Dvorsky  https://kinja.com/georgedvorsky  2020-01-03T10:10:00-05:00   \n",
       "4  Yessenia Funes        https://kinja.com/yessfun  2020-01-06T15:55:00-05:00   \n",
       "\n",
       "                                           body_text  \\\n",
       "0  This is the second day of the new decade, and ...   \n",
       "1  The Environmental Protection Agency under Dona...   \n",
       "2  As of Thursday morning, ongoing bushfires have...   \n",
       "3  Significant portions of Australia’s southeast ...   \n",
       "4  Puerto Rico just can’t seem to catch a break. ...   \n",
       "\n",
       "                                          body_links  \\\n",
       "0  [http://www.principlepowerinc.com/en/news-pres...   \n",
       "1  [https://earther.gizmodo.com/the-epas-superfun...   \n",
       "2  [https://www.theguardian.com/australia-news/li...   \n",
       "3  [https://earthobservatory.nasa.gov/images/1460...   \n",
       "4  [http://ds.iris.edu/seismon/quakes_today_in_N_...   \n",
       "\n",
       "                                              tokens  \n",
       "0  [second, day, new, decade, world, largest, flo...  \n",
       "1  [environmental, protection, agency, donald, tr...  \n",
       "2  [thursday, morning, ongoing, bushfires, contin...  \n",
       "3  [significant, portions, australia, southeast, ...  \n",
       "4  [puerto, rico, seem, catch, break, people, isl...  "
      ]
     },
     "execution_count": 348,
     "metadata": {},
     "output_type": "execute_result"
    }
   ],
   "source": [
    "df.head()"
   ]
  },
  {
   "cell_type": "code",
   "execution_count": 357,
   "metadata": {},
   "outputs": [
    {
     "data": {
      "text/plain": [
       "63789"
      ]
     },
     "execution_count": 357,
     "metadata": {},
     "output_type": "execute_result"
    }
   ],
   "source": [
    "total_vocab = set()\n",
    "for article in df.tokens:\n",
    "    total_vocab.update(article)\n",
    "len(total_vocab)"
   ]
  },
  {
   "cell_type": "code",
   "execution_count": 358,
   "metadata": {},
   "outputs": [],
   "source": [
    "articles_concat = []\n",
    "for article in df.tokens:\n",
    "    articles_concat += article"
   ]
  },
  {
   "cell_type": "code",
   "execution_count": 359,
   "metadata": {},
   "outputs": [],
   "source": [
    "articles_freqdist = FreqDist(articles_concat)"
   ]
  },
  {
   "cell_type": "code",
   "execution_count": 376,
   "metadata": {},
   "outputs": [
    {
     "data": {
      "text/plain": [
       "[('climate', 8477),\n",
       " ('said', 5923),\n",
       " ('new', 5678),\n",
       " ('also', 5127),\n",
       " ('change', 4960),\n",
       " ('like', 4806),\n",
       " ('one', 4644),\n",
       " ('people', 4628),\n",
       " ('could', 4502),\n",
       " ('would', 3840),\n",
       " ('water', 3700),\n",
       " ('year', 3541),\n",
       " ('told', 3468),\n",
       " ('world', 3309),\n",
       " ('earther', 3115),\n",
       " ('even', 2993),\n",
       " ('time', 2872),\n",
       " ('years', 2870),\n",
       " ('last', 2676),\n",
       " ('according', 2633),\n",
       " ('still', 2546),\n",
       " ('ice', 2472),\n",
       " ('state', 2434),\n",
       " ('much', 2361),\n",
       " ('study', 2351),\n",
       " ('around', 2307),\n",
       " ('environmental', 2281),\n",
       " ('percent', 2244),\n",
       " ('first', 2222),\n",
       " ('may', 2176),\n",
       " ('species', 2170),\n",
       " ('energy', 2164),\n",
       " ('many', 2146),\n",
       " ('get', 2134),\n",
       " ('u.s.', 2133),\n",
       " ('carbon', 2133),\n",
       " ('way', 2126),\n",
       " ('national', 2045),\n",
       " ('research', 1962),\n",
       " ('scientists', 1959),\n",
       " ('make', 1891),\n",
       " ('sea', 1868),\n",
       " ('air', 1835),\n",
       " ('well', 1804),\n",
       " ('back', 1791),\n",
       " ('since', 1778),\n",
       " ('two', 1769),\n",
       " ('see', 1737),\n",
       " ('emissions', 1725),\n",
       " ('need', 1686)]"
      ]
     },
     "execution_count": 376,
     "metadata": {},
     "output_type": "execute_result"
    }
   ],
   "source": [
    "articles_freqdist.most_common(50)"
   ]
  },
  {
   "cell_type": "code",
   "execution_count": 383,
   "metadata": {},
   "outputs": [
    {
     "data": {
      "text/plain": [
       "0       Portugal Earther Wind-Energy Wind-for-the-Win ...\n",
       "1       EPA Donald-Trump Earther Toxic-Legacy Environm...\n",
       "2                 Lifehacker AUSTRALIA call-for-help Fire\n",
       "3       fires global-warming Satellite-Images heat-wav...\n",
       "4       Puerto-Rico Hurricane-Maria Earther Energy Ear...\n",
       "                              ...                        \n",
       "3010                                              Earther\n",
       "3011    Puerto-Rico El-Yunque hurricanes science disas...\n",
       "3012                     Lifehacker Pets Environment Dogs\n",
       "3013    polar science Earther art sound-of-climate-sil...\n",
       "3014    whales science Earther conservation marine-bio...\n",
       "Name: keywords, Length: 3015, dtype: object"
      ]
     },
     "execution_count": 383,
     "metadata": {},
     "output_type": "execute_result"
    }
   ],
   "source": [
    "df.keywords.map(lambda lst : ' '.join([k.replace(' ','-') for k in lst]))"
   ]
  },
  {
   "cell_type": "code",
   "execution_count": 384,
   "metadata": {},
   "outputs": [],
   "source": [
    "from sklearn.feature_extraction.text import TfidfVectorizer"
   ]
  },
  {
   "cell_type": "code",
   "execution_count": 385,
   "metadata": {},
   "outputs": [],
   "source": [
    "vectorizer = TfidfVectorizer()"
   ]
  },
  {
   "cell_type": "code",
   "execution_count": null,
   "metadata": {},
   "outputs": [],
   "source": []
  }
 ],
 "metadata": {
  "kernelspec": {
   "display_name": "Python 3",
   "language": "python",
   "name": "python3"
  },
  "language_info": {
   "codemirror_mode": {
    "name": "ipython",
    "version": 3
   },
   "file_extension": ".py",
   "mimetype": "text/x-python",
   "name": "python",
   "nbconvert_exporter": "python",
   "pygments_lexer": "ipython3",
   "version": "3.7.3"
  }
 },
 "nbformat": 4,
 "nbformat_minor": 4
}
