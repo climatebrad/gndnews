{
 "cells": [
  {
   "cell_type": "code",
   "execution_count": 37,
   "metadata": {},
   "outputs": [],
   "source": [
    "import requests\n",
    "from bs4 import BeautifulSoup\n",
    "import re\n",
    "import scrapy"
   ]
  },
  {
   "cell_type": "code",
   "execution_count": 2,
   "metadata": {},
   "outputs": [],
   "source": [
    "url = 'http://earther.gizmodo.com/exxonmobil-wishes-australia-a-happy-new-year-as-country-1840758432'"
   ]
  },
  {
   "cell_type": "code",
   "execution_count": 7,
   "metadata": {},
   "outputs": [],
   "source": [
    "response = requests.get(url)"
   ]
  },
  {
   "cell_type": "code",
   "execution_count": 8,
   "metadata": {},
   "outputs": [
    {
     "ename": "AttributeError",
     "evalue": "'Response' object has no attribute 'xpath'",
     "output_type": "error",
     "traceback": [
      "\u001b[0;31m---------------------------------------------------------------------------\u001b[0m",
      "\u001b[0;31mAttributeError\u001b[0m                            Traceback (most recent call last)",
      "\u001b[0;32m<ipython-input-8-c05a136226ec>\u001b[0m in \u001b[0;36m<module>\u001b[0;34m\u001b[0m\n\u001b[0;32m----> 1\u001b[0;31m \u001b[0mresponse\u001b[0m\u001b[0;34m.\u001b[0m\u001b[0mxpath\u001b[0m\u001b[0;34m(\u001b[0m\u001b[0;34m)\u001b[0m\u001b[0;34m\u001b[0m\u001b[0;34m\u001b[0m\u001b[0m\n\u001b[0m",
      "\u001b[0;31mAttributeError\u001b[0m: 'Response' object has no attribute 'xpath'"
     ]
    }
   ],
   "source": [
    "response.xpath()"
   ]
  },
  {
   "cell_type": "code",
   "execution_count": 10,
   "metadata": {},
   "outputs": [],
   "source": [
    "soup = BeautifulSoup(response.text)"
   ]
  },
  {
   "cell_type": "code",
   "execution_count": 17,
   "metadata": {},
   "outputs": [
    {
     "data": {
      "text/plain": [
       "<a class=\"js_link sc-1out364-0 fwjlmD\" data-ga='[[\"Permalink meta\",\"Author click\",\"https://kinja.com/JolieKerr\"]]' href=\"https://kinja.com/JolieKerr\">Jolie Kerr</a>"
      ]
     },
     "execution_count": 17,
     "metadata": {},
     "output_type": "execute_result"
    }
   ],
   "source": [
    "soup.find(\"a\", {\"data-ga\" : re.compile(\"Author\")})"
   ]
  },
  {
   "cell_type": "code",
   "execution_count": 30,
   "metadata": {},
   "outputs": [
    {
     "data": {
      "text/plain": [
       "'Matt Novak'"
      ]
     },
     "execution_count": 30,
     "metadata": {},
     "output_type": "execute_result"
    }
   ],
   "source": [
    "soup.find(\"main\").find_all(\"a\", {\"data-ga\" : re.compile(\"Author\")})[1].text"
   ]
  },
  {
   "cell_type": "code",
   "execution_count": 29,
   "metadata": {},
   "outputs": [
    {
     "data": {
      "text/plain": [
       "'Matt Novak'"
      ]
     },
     "execution_count": 29,
     "metadata": {},
     "output_type": "execute_result"
    }
   ],
   "source": [
    "soup.find(\"main\").find(class_=\"sc-1mep9y1-0\").text"
   ]
  },
  {
   "cell_type": "code",
   "execution_count": 33,
   "metadata": {},
   "outputs": [
    {
     "data": {
      "text/plain": [
       "'Matt Novak'"
      ]
     },
     "execution_count": 33,
     "metadata": {},
     "output_type": "execute_result"
    }
   ],
   "source": [
    "soup.select_one(\"main .sc-1mep9y1-0\").text"
   ]
  },
  {
   "cell_type": "code",
   "execution_count": 35,
   "metadata": {},
   "outputs": [
    {
     "data": {
      "text/plain": [
       "'Matt Novak'"
      ]
     },
     "execution_count": 35,
     "metadata": {},
     "output_type": "execute_result"
    }
   ],
   "source": [
    "soup.select(\"main a[data-ga*=Author]\")[1].text"
   ]
  },
  {
   "cell_type": "code",
   "execution_count": 191,
   "metadata": {},
   "outputs": [],
   "source": [
    "scrap = scrapy.http.HtmlResponse(url=url, request=scrapy.http.Request(url), body=response.text, encoding='utf-8')"
   ]
  },
  {
   "cell_type": "code",
   "execution_count": 98,
   "metadata": {},
   "outputs": [
    {
     "data": {
      "text/plain": [
       "'2020-01-01T12:15:00-05:00'"
      ]
     },
     "execution_count": 98,
     "metadata": {},
     "output_type": "execute_result"
    }
   ],
   "source": [
    "scrap.css('main time').attrib['datetime']"
   ]
  },
  {
   "cell_type": "code",
   "execution_count": 120,
   "metadata": {},
   "outputs": [
    {
     "data": {
      "text/plain": [
       "'ExxonMobil sent out a heartwarming tweet yesterday, wishing the good people of Australia a “safe” and “fun” New Year. Well, maybe heartwarming isn’t the right word. Perhaps “idiotic” is more appropriate, given the fact that large parts of Australia are currently on fire thanks in part to ExxonMobil’s history of climate change denial.\\nAustralia’s capital city of Canberra had the worst air quality in the world today and many people in the states of New South Wales and Victoria have been displaced by the enormous fires. The entire country is suffering, but ExxonMobil wants to make sure we have a “fun” and “safe” year.\\nAt least nine people have died in Australia’s bushfires since Christmas Day, with over 9.8 million acres (4 million hectares) burned. An estimated 500 million animals have been killed since the fire season started prematurely back in September and while Australia has had bad bushfires in the past, this year’s are unprecedented in their scale. \\nClimate change is the obvious culprit as virtually all scientists agree, but politicians continue to sit on their hands. And now we get tone deaf tweets from Big Oil companies like ExxonMobil while the country goes up in flames.\\nExxonMobil spent decades and millions of dollars fighting real climate policy reform, while secretly knowing exactly what was going to happen if the planet didn’t curb carbon emissions. Back in 1982, Exxon scientists made predictions that match the reality of our current climate crisis—predictions that we only know about now thanks to a 2015 investigation. And Australia is currently on the front lines of this human-caused emergency.\\nMost recently, tourists in Australia’s South Coast have been instructed to leave in a new advisory from local fire authorities and the local emergency management minister. To make things even worse, power is out and telecommunications channels are down in many parts of New South Wales, leaving many unsure how to call for help.\\nNew South Wales Rural Fire Service tweeted out an advisory today telling people to get the fuck out of the South Coast, because January 4 is going to be a perfect storm of heat and wind that will create a dangerous situation for miles.\\n“These will be dangerous conditions, the same or worse than New Year’s Eve,” the notice says.\\nBut as many people are pointing out online, there’s not always a way to escape. In fact, there are entire stretches along the highlighted areas where people aren’t allowed to move. What’s going to happen to the thousands of people who are trapped? We’ll find out later this week, I guess.\\nIn summary, thank you for your New Year’s wishes, ExxonMobil. You helped create this mess. And we’re never going to forget it.'"
      ]
     },
     "execution_count": 120,
     "metadata": {},
     "output_type": "execute_result"
    }
   ],
   "source": [
    "'\\n'.join([''.join(p.css('::text').extract()) \n",
    "           for p in scrap.css('main .js_post-content p')])"
   ]
  },
  {
   "cell_type": "code",
   "execution_count": 151,
   "metadata": {},
   "outputs": [
    {
     "data": {
      "text/plain": [
       "\"ExxonMobil Wishes Australia a 'Fun' New Year as Country Burns in Climate Crisis\""
      ]
     },
     "execution_count": 151,
     "metadata": {},
     "output_type": "execute_result"
    }
   ],
   "source": [
    "scrap.css('title::text').get()"
   ]
  },
  {
   "cell_type": "code",
   "execution_count": 163,
   "metadata": {},
   "outputs": [
    {
     "data": {
      "text/plain": [
       "['https://twitter.com/exxonmobil_aus/status/1212129043023183872',\n",
       " 'https://www.sbs.com.au/news/canberra-s-air-quality-is-the-worst-in-the-world-as-bushfire-smoke-shrouds-capital',\n",
       " 'https://earther.gizmodo.com/australian-prime-minister-will-return-from-vacation-to-1840535037',\n",
       " 'https://www.theguardian.com/environment/2015/jul/15/exxon-mobil-gave-millions-climate-denying-lawmakers',\n",
       " 'https://earther.gizmodo.com/exxon-predicted-2019-s-ominous-co2-milestone-in-1982-1834748763',\n",
       " 'https://twitter.com/NSWRFS/status/1212336600853733376',\n",
       " 'https://twitter.com/barriecassidy/status/1212356373024931841']"
      ]
     },
     "execution_count": 163,
     "metadata": {},
     "output_type": "execute_result"
    }
   ],
   "source": [
    "links = []\n",
    "for p in scrap.css('main .js_post-content p'):\n",
    "    links.extend(p.css('a[data-ga*=\"Embedded Url\"]::attr(href)').extract())\n",
    "links"
   ]
  },
  {
   "cell_type": "code",
   "execution_count": 192,
   "metadata": {},
   "outputs": [],
   "source": [
    "k = scrap.css('meta[name=\"keywords\"]').attrib['content'].split(',')"
   ]
  },
  {
   "cell_type": "code",
   "execution_count": 193,
   "metadata": {},
   "outputs": [
    {
     "data": {
      "text/plain": [
       "['australia',\n",
       " 'bushfires',\n",
       " 'climate change',\n",
       " 'new south wales',\n",
       " 'rural fire service',\n",
       " 'social media',\n",
       " 'twitter',\n",
       " 'wildfires',\n",
       " 'climate emergency',\n",
       " 'Earther']"
      ]
     },
     "execution_count": 193,
     "metadata": {},
     "output_type": "execute_result"
    }
   ],
   "source": [
    "list(map(str.strip, k))"
   ]
  },
  {
   "cell_type": "code",
   "execution_count": null,
   "metadata": {},
   "outputs": [],
   "source": []
  }
 ],
 "metadata": {
  "kernelspec": {
   "display_name": "Python 3",
   "language": "python",
   "name": "python3"
  },
  "language_info": {
   "codemirror_mode": {
    "name": "ipython",
    "version": 3
   },
   "file_extension": ".py",
   "mimetype": "text/x-python",
   "name": "python",
   "nbconvert_exporter": "python",
   "pygments_lexer": "ipython3",
   "version": "3.7.3"
  }
 },
 "nbformat": 4,
 "nbformat_minor": 4
}
