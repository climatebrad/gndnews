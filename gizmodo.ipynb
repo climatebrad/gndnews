{
 "cells": [
  {
   "cell_type": "code",
   "execution_count": 1,
   "metadata": {},
   "outputs": [],
   "source": [
    "import pandas as pd\n",
    "import json"
   ]
  },
  {
   "cell_type": "code",
   "execution_count": 2,
   "metadata": {},
   "outputs": [
    {
     "name": "stderr",
     "output_type": "stream",
     "text": [
      "Using TensorFlow backend.\n"
     ]
    }
   ],
   "source": [
    "import topic_modeler.gizmodo_modeler\n",
    "import importlib\n",
    "importlib.reload(topic_modeler.gizmodo_modeler)\n",
    "from topic_modeler.gizmodo_modeler import GizmodoModeler"
   ]
  },
  {
   "cell_type": "code",
   "execution_count": 3,
   "metadata": {},
   "outputs": [],
   "source": [
    "gizmodeler  = GizmodoModeler()"
   ]
  },
  {
   "cell_type": "code",
   "execution_count": 4,
   "metadata": {},
   "outputs": [
    {
     "data": {
      "text/plain": [
       "theonion.com           2997\n",
       "kotaku.com             2992\n",
       "theroot.com            2992\n",
       "deadspin.com           2954\n",
       "lifehacker.com         2924\n",
       "jezebel.com            2920\n",
       "thetakeout.com         2900\n",
       "gizmodo.com            2815\n",
       "jalopnik.com           2798\n",
       "earther.gizmodo.com    2525\n",
       "Name: cluster, dtype: int64"
      ]
     },
     "execution_count": 4,
     "metadata": {},
     "output_type": "execute_result"
    }
   ],
   "source": [
    "gizmodeler.drop_gizmodo_site('io9.gizmodo.com')\n",
    "gizmodeler.articles.cluster.value_counts()"
   ]
  },
  {
   "cell_type": "code",
   "execution_count": 5,
   "metadata": {},
   "outputs": [],
   "source": [
    "model_cfg = gizmodeler.cfg['TOPIC_MODELING']\n",
    "random_state = model_cfg.getint('RANDOM_STATE')"
   ]
  },
  {
   "cell_type": "code",
   "execution_count": 6,
   "metadata": {},
   "outputs": [
    {
     "data": {
      "text/plain": [
       "{'X_train':                                                body_text\n",
       " 20495  In July 1959, a young and disconcertingly hand...\n",
       " 26452  It’s time. Time for us to get behind the wheel...\n",
       " 3224   With E3 coming up in less than a month, it’s t...\n",
       " 21392  Earlier this summer, Christian “humor” site Th...\n",
       " 6230   Every video game has its peaks and valleys. A ...\n",
       " ...                                                  ...\n",
       " 17209  In August, Minneapolis banned the construction...\n",
       " 5437   Pass that dutch—it’s a celebration, bitches! M...\n",
       " 5806   Authorities ushered a man out of a Vermont cou...\n",
       " 410    Gita Jackson, Kotaku staff writer and likely S...\n",
       " 4490   Three couples in Virginia are invoking the nam...\n",
       " \n",
       " [23053 rows x 1 columns],\n",
       " 'X_test':                                                body_text\n",
       " 28793  Israel was allegedly behind the Stingray spy d...\n",
       " 22606  Avisaíl García, the disorienting ceiling at th...\n",
       " 23013  On Monday, Politico ran a lengthy piece levera...\n",
       " 6982   The U.S. government has stepped in and moved m...\n",
       " 3486   Because EA owns The Sims, and because EA also ...\n",
       " ...                                                  ...\n",
       " 28624  The European Union has ordered Apple to pay ro...\n",
       " 19446  Perhaps you’re not familiar with Cheba Hut. If...\n",
       " 26340  The number one rule of doing crime successfull...\n",
       " 19270  It’s that time of year where reporters and oth...\n",
       " 3979   The Outer Worlds is one of the best games of t...\n",
       " \n",
       " [5764 rows x 1 columns],\n",
       " 'y_train': 20495       jezebel.com\n",
       " 26452      jalopnik.com\n",
       " 3224       theonion.com\n",
       " 21392       jezebel.com\n",
       " 6230         kotaku.com\n",
       "               ...      \n",
       " 17209    thetakeout.com\n",
       " 5437        theroot.com\n",
       " 5806        theroot.com\n",
       " 410          kotaku.com\n",
       " 4490        theroot.com\n",
       " Name: cluster, Length: 23053, dtype: object,\n",
       " 'y_test': 28793       gizmodo.com\n",
       " 22606      deadspin.com\n",
       " 23013       jezebel.com\n",
       " 6982        theroot.com\n",
       " 3486         kotaku.com\n",
       "               ...      \n",
       " 28624       gizmodo.com\n",
       " 19446    thetakeout.com\n",
       " 26340       gizmodo.com\n",
       " 19270      deadspin.com\n",
       " 3979         kotaku.com\n",
       " Name: cluster, Length: 5764, dtype: object}"
      ]
     },
     "execution_count": 6,
     "metadata": {},
     "output_type": "execute_result"
    }
   ],
   "source": [
    "gizmodeler.train_test_split_articles(random_state=random_state)"
   ]
  },
  {
   "cell_type": "code",
   "execution_count": null,
   "metadata": {},
   "outputs": [
    {
     "name": "stderr",
     "output_type": "stream",
     "text": [
      "/usr/local/anaconda3/lib/python3.7/site-packages/sklearn/feature_extraction/text.py:385: UserWarning: Your stop_words may be inconsistent with your preprocessing. Tokenizing the stop words generated tokens ['concourse', 'muse', 'onion', 'root', 'slot', 'takeout'] not in stop_words.\n",
      "  'stop_words.' % sorted(inconsistent))\n"
     ]
    }
   ],
   "source": [
    "gizmodeler.vectorize_articles(**json.loads(model_cfg['ARTICLE_VECTORIZER_SETTINGS']))"
   ]
  },
  {
   "cell_type": "code",
   "execution_count": 117,
   "metadata": {},
   "outputs": [
    {
     "data": {
      "text/plain": [
       "'{\"gizmodo\" : \"ignore\", \"vectorizer\" : \"tfidf\", \"ngram_range\" : (1, 2), \"max_features\" : 50000}'"
      ]
     },
     "execution_count": 117,
     "metadata": {},
     "output_type": "execute_result"
    }
   ],
   "source": [
    "model_cfg['ARTICLE_VECTORIZER_SETTINGS']"
   ]
  },
  {
   "cell_type": "code",
   "execution_count": 109,
   "metadata": {},
   "outputs": [
    {
     "data": {
      "text/plain": [
       "{'gizmodo': 'ignore',\n",
       " 'vectorizer': 'tfidf',\n",
       " 'ngram_range': [1, 2],\n",
       " 'max_features': 50000}"
      ]
     },
     "execution_count": 109,
     "metadata": {},
     "output_type": "execute_result"
    }
   ],
   "source": [
    "json.loads(tst)"
   ]
  },
  {
   "cell_type": "code",
   "execution_count": 137,
   "metadata": {},
   "outputs": [],
   "source": [
    "url = 'https://lifehacker.com?startTime=1579615200679'\n",
    "response = requests.get(url)\n",
    "scrap = scrapy.http.HtmlResponse(url=url, \n",
    "                                 request=scrapy.http.Request(url), body=response.text, encoding='utf-8')"
   ]
  },
  {
   "cell_type": "code",
   "execution_count": 140,
   "metadata": {},
   "outputs": [
    {
     "data": {
      "text/plain": [
       "<200 https://lifehacker.com?startTime=1579615200679>"
      ]
     },
     "execution_count": 140,
     "metadata": {},
     "output_type": "execute_result"
    }
   ],
   "source": [
    "scrap"
   ]
  },
  {
   "cell_type": "code",
   "execution_count": 133,
   "metadata": {},
   "outputs": [
    {
     "data": {
      "text/plain": [
       "'earther.gizmodo.com'"
      ]
     },
     "execution_count": 133,
     "metadata": {},
     "output_type": "execute_result"
    }
   ],
   "source": [
    "re.search('((?:earther\\.|io9\\.)?\\w+\\.com)/?', url).group(1)"
   ]
  },
  {
   "cell_type": "code",
   "execution_count": 127,
   "metadata": {},
   "outputs": [
    {
     "data": {
      "text/plain": [
       "'https://kotaku.com'"
      ]
     },
     "execution_count": 127,
     "metadata": {},
     "output_type": "execute_result"
    }
   ],
   "source": [
    "url"
   ]
  },
  {
   "cell_type": "code",
   "execution_count": null,
   "metadata": {},
   "outputs": [],
   "source": []
  }
 ],
 "metadata": {
  "kernelspec": {
   "display_name": "Python 3",
   "language": "python",
   "name": "python3"
  },
  "language_info": {
   "codemirror_mode": {
    "name": "ipython",
    "version": 3
   },
   "file_extension": ".py",
   "mimetype": "text/x-python",
   "name": "python",
   "nbconvert_exporter": "python",
   "pygments_lexer": "ipython3",
   "version": "3.7.3"
  }
 },
 "nbformat": 4,
 "nbformat_minor": 4
}
