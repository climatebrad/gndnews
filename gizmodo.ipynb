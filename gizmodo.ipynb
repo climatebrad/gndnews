{
 "cells": [
  {
   "cell_type": "code",
   "execution_count": 1,
   "metadata": {},
   "outputs": [],
   "source": [
    "import pandas as pd\n",
    "import json"
   ]
  },
  {
   "cell_type": "code",
   "execution_count": 2,
   "metadata": {},
   "outputs": [
    {
     "name": "stderr",
     "output_type": "stream",
     "text": [
      "Using TensorFlow backend.\n"
     ]
    }
   ],
   "source": [
    "import topic_modeler.gizmodo_modeler\n",
    "import importlib\n",
    "import topic_modeler.modeling\n",
    "importlib.reload(topic_modeler.modeling)\n",
    "importlib.reload(topic_modeler.gizmodo_modeler)\n",
    "from topic_modeler.gizmodo_modeler import GizmodoModeler"
   ]
  },
  {
   "cell_type": "code",
   "execution_count": 3,
   "metadata": {},
   "outputs": [],
   "source": [
    "gizmodeler  = GizmodoModeler()"
   ]
  },
  {
   "cell_type": "code",
   "execution_count": 4,
   "metadata": {},
   "outputs": [
    {
     "data": {
      "text/plain": [
       "theonion.com           2997\n",
       "theroot.com            2992\n",
       "kotaku.com             2992\n",
       "deadspin.com           2954\n",
       "lifehacker.com         2924\n",
       "jezebel.com            2920\n",
       "thetakeout.com         2900\n",
       "gizmodo.com            2815\n",
       "jalopnik.com           2798\n",
       "earther.gizmodo.com    2525\n",
       "Name: cluster, dtype: int64"
      ]
     },
     "execution_count": 4,
     "metadata": {},
     "output_type": "execute_result"
    }
   ],
   "source": [
    "gizmodeler.drop_gizmodo_site('io9.gizmodo.com')\n",
    "gizmodeler.articles.cluster.value_counts()"
   ]
  },
  {
   "cell_type": "code",
   "execution_count": 5,
   "metadata": {},
   "outputs": [],
   "source": [
    "model_cfg = gizmodeler.cfg['TOPIC_MODELING']\n",
    "random_state = model_cfg.getint('RANDOM_STATE')"
   ]
  },
  {
   "cell_type": "code",
   "execution_count": 6,
   "metadata": {},
   "outputs": [
    {
     "data": {
      "text/plain": [
       "{'X_train':                                                body_text\n",
       " 20495  In July 1959, a young and disconcertingly hand...\n",
       " 26452  It’s time. Time for us to get behind the wheel...\n",
       " 3224   With E3 coming up in less than a month, it’s t...\n",
       " 21392  Earlier this summer, Christian “humor” site Th...\n",
       " 6230   Every video game has its peaks and valleys. A ...\n",
       " ...                                                  ...\n",
       " 17209  In August, Minneapolis banned the construction...\n",
       " 5437   Pass that dutch—it’s a celebration, bitches! M...\n",
       " 5806   Authorities ushered a man out of a Vermont cou...\n",
       " 410    Gita Jackson, Kotaku staff writer and likely S...\n",
       " 4490   Three couples in Virginia are invoking the nam...\n",
       " \n",
       " [23053 rows x 1 columns],\n",
       " 'X_test':                                                body_text\n",
       " 28793  Israel was allegedly behind the Stingray spy d...\n",
       " 22606  Avisaíl García, the disorienting ceiling at th...\n",
       " 23013  On Monday, Politico ran a lengthy piece levera...\n",
       " 6982   The U.S. government has stepped in and moved m...\n",
       " 3486   Because EA owns The Sims, and because EA also ...\n",
       " ...                                                  ...\n",
       " 28624  The European Union has ordered Apple to pay ro...\n",
       " 19446  Perhaps you’re not familiar with Cheba Hut. If...\n",
       " 26340  The number one rule of doing crime successfull...\n",
       " 19270  It’s that time of year where reporters and oth...\n",
       " 3979   The Outer Worlds is one of the best games of t...\n",
       " \n",
       " [5764 rows x 1 columns],\n",
       " 'y_train': 20495       jezebel.com\n",
       " 26452      jalopnik.com\n",
       " 3224       theonion.com\n",
       " 21392       jezebel.com\n",
       " 6230         kotaku.com\n",
       "               ...      \n",
       " 17209    thetakeout.com\n",
       " 5437        theroot.com\n",
       " 5806        theroot.com\n",
       " 410          kotaku.com\n",
       " 4490        theroot.com\n",
       " Name: cluster, Length: 23053, dtype: object,\n",
       " 'y_test': 28793       gizmodo.com\n",
       " 22606      deadspin.com\n",
       " 23013       jezebel.com\n",
       " 6982        theroot.com\n",
       " 3486         kotaku.com\n",
       "               ...      \n",
       " 28624       gizmodo.com\n",
       " 19446    thetakeout.com\n",
       " 26340       gizmodo.com\n",
       " 19270      deadspin.com\n",
       " 3979         kotaku.com\n",
       " Name: cluster, Length: 5764, dtype: object}"
      ]
     },
     "execution_count": 6,
     "metadata": {},
     "output_type": "execute_result"
    }
   ],
   "source": [
    "gizmodeler.train_test_split_articles(random_state=random_state)"
   ]
  },
  {
   "cell_type": "code",
   "execution_count": 7,
   "metadata": {},
   "outputs": [
    {
     "name": "stdout",
     "output_type": "stream",
     "text": [
      "Vectorizing articles...\n"
     ]
    },
    {
     "name": "stderr",
     "output_type": "stream",
     "text": [
      "/usr/local/anaconda3/lib/python3.7/site-packages/sklearn/feature_extraction/text.py:385: UserWarning: Your stop_words may be inconsistent with your preprocessing. Tokenizing the stop words generated tokens ['concourse', 'muse', 'onion', 'root', 'slot', 'takeout'] not in stop_words.\n",
      "  'stop_words.' % sorted(inconsistent))\n"
     ]
    },
    {
     "data": {
      "text/html": [
       "<div>\n",
       "<style scoped>\n",
       "    .dataframe tbody tr th:only-of-type {\n",
       "        vertical-align: middle;\n",
       "    }\n",
       "\n",
       "    .dataframe tbody tr th {\n",
       "        vertical-align: top;\n",
       "    }\n",
       "\n",
       "    .dataframe thead th {\n",
       "        text-align: right;\n",
       "    }\n",
       "</style>\n",
       "<table border=\"1\" class=\"dataframe\">\n",
       "  <thead>\n",
       "    <tr style=\"text-align: right;\">\n",
       "      <th></th>\n",
       "    </tr>\n",
       "  </thead>\n",
       "  <tbody>\n",
       "    <tr>\n",
       "      <th>0</th>\n",
       "    </tr>\n",
       "    <tr>\n",
       "      <th>1</th>\n",
       "    </tr>\n",
       "    <tr>\n",
       "      <th>2</th>\n",
       "    </tr>\n",
       "    <tr>\n",
       "      <th>3</th>\n",
       "    </tr>\n",
       "    <tr>\n",
       "      <th>4</th>\n",
       "    </tr>\n",
       "    <tr>\n",
       "      <th>...</th>\n",
       "    </tr>\n",
       "    <tr>\n",
       "      <th>29672</th>\n",
       "    </tr>\n",
       "    <tr>\n",
       "      <th>29673</th>\n",
       "    </tr>\n",
       "    <tr>\n",
       "      <th>29674</th>\n",
       "    </tr>\n",
       "    <tr>\n",
       "      <th>29675</th>\n",
       "    </tr>\n",
       "    <tr>\n",
       "      <th>29677</th>\n",
       "    </tr>\n",
       "  </tbody>\n",
       "</table>\n",
       "<p>28817 rows × 0 columns</p>\n",
       "</div>"
      ],
      "text/plain": [
       "Empty DataFrame\n",
       "Columns: []\n",
       "Index: [0, 1, 2, 3, 4, 5, 6, 7, 8, 9, 10, 11, 12, 13, 14, 15, 16, 17, 18, 19, 20, 21, 22, 23, 24, 25, 26, 27, 28, 29, 30, 31, 32, 33, 34, 35, 36, 37, 38, 39, 40, 41, 42, 43, 44, 45, 46, 47, 48, 49, 50, 51, 52, 53, 54, 55, 56, 57, 58, 59, 60, 61, 62, 63, 64, 65, 66, 67, 68, 69, 70, 71, 72, 73, 74, 75, 76, 77, 78, 79, 80, 81, 82, 83, 84, 85, 86, 87, 88, 89, 90, 91, 92, 93, 94, 95, 96, 97, 98, 99, ...]\n",
       "\n",
       "[28817 rows x 0 columns]"
      ]
     },
     "execution_count": 7,
     "metadata": {},
     "output_type": "execute_result"
    }
   ],
   "source": [
    "gizmodeler.vectorize_articles(**json.loads(model_cfg['ARTICLE_VECTORIZER_SETTINGS']))"
   ]
  },
  {
   "cell_type": "code",
   "execution_count": 8,
   "metadata": {},
   "outputs": [
    {
     "data": {
      "text/plain": [
       "<23053x100000 sparse matrix of type '<class 'numpy.float64'>'\n",
       "\twith 4620468 stored elements in Compressed Sparse Row format>"
      ]
     },
     "execution_count": 8,
     "metadata": {},
     "output_type": "execute_result"
    }
   ],
   "source": [
    "gizmodeler.splitted_vectorized_articles['X_train']"
   ]
  },
  {
   "cell_type": "code",
   "execution_count": 9,
   "metadata": {},
   "outputs": [
    {
     "data": {
      "text/plain": [
       "theonion.com           2397\n",
       "theroot.com            2394\n",
       "kotaku.com             2394\n",
       "deadspin.com           2363\n",
       "lifehacker.com         2339\n",
       "jezebel.com            2336\n",
       "thetakeout.com         2320\n",
       "gizmodo.com            2252\n",
       "jalopnik.com           2238\n",
       "earther.gizmodo.com    2020\n",
       "Name: cluster, dtype: int64"
      ]
     },
     "execution_count": 9,
     "metadata": {},
     "output_type": "execute_result"
    }
   ],
   "source": [
    "gizmodeler.splitted_articles['y_train'].value_counts()"
   ]
  },
  {
   "cell_type": "code",
   "execution_count": 10,
   "metadata": {},
   "outputs": [
    {
     "data": {
      "text/plain": [
       "'{ \"solver\" : \"saga\", \"multi_class\" : \"multinomial\", \"penalty\" : \"l1\", \"max_iter\" : 1000, \"n_jobs\" : -1, \"resampled\" : false }'"
      ]
     },
     "execution_count": 10,
     "metadata": {},
     "output_type": "execute_result"
    }
   ],
   "source": [
    "model_cfg = gizmodeler.cfg['TOPIC_MODELING']\n",
    "model_cfg['MODEL_SETTINGS'] "
   ]
  },
  {
   "cell_type": "code",
   "execution_count": 11,
   "metadata": {},
   "outputs": [
    {
     "data": {
      "text/plain": [
       "{'solver': 'saga',\n",
       " 'multi_class': 'multinomial',\n",
       " 'penalty': 'l1',\n",
       " 'max_iter': 1000,\n",
       " 'n_jobs': -1,\n",
       " 'resampled': False}"
      ]
     },
     "execution_count": 11,
     "metadata": {},
     "output_type": "execute_result"
    }
   ],
   "source": [
    "json.loads(model_cfg['MODEL_SETTINGS'])"
   ]
  },
  {
   "cell_type": "code",
   "execution_count": 12,
   "metadata": {},
   "outputs": [
    {
     "name": "stdout",
     "output_type": "stream",
     "text": [
      "Training LogisticRegression classifier with params {'solver': 'saga', 'multi_class': 'multinomial', 'penalty': 'l1', 'random_state': 12, 'max_iter': 1000, 'C': 0.1, 'n_jobs': -1}...\n"
     ]
    }
   ],
   "source": [
    "gizmodeler.train_article_classifier(classifier=model_cfg['MODEL'], \n",
    "                                 **json.loads(model_cfg['MODEL_SETTINGS']),\n",
    "                                 random_state=random_state\n",
    "                                )"
   ]
  },
  {
   "cell_type": "code",
   "execution_count": 13,
   "metadata": {},
   "outputs": [
    {
     "name": "stdout",
     "output_type": "stream",
     "text": [
      "Test accuracy: 0.6471\n",
      "% non-zero coefficients per class:\n",
      " [0.024 0.027 0.019 0.015 0.015 0.013 0.02  0.008 0.011 0.02 ]\n",
      "                     precision    recall  f1-score   support\n",
      "\n",
      "       deadspin.com       0.77      0.64      0.70       591\n",
      "earther.gizmodo.com       0.79      0.78      0.78       505\n",
      "        gizmodo.com       0.59      0.48      0.53       563\n",
      "       jalopnik.com       0.87      0.75      0.81       560\n",
      "        jezebel.com       0.49      0.48      0.49       584\n",
      "         kotaku.com       0.75      0.72      0.73       598\n",
      "     lifehacker.com       0.54      0.62      0.57       585\n",
      "       theonion.com       0.46      0.71      0.56       600\n",
      "        theroot.com       0.63      0.63      0.63       598\n",
      "     thetakeout.com       0.78      0.68      0.73       580\n",
      "\n",
      "           accuracy                           0.65      5764\n",
      "          macro avg       0.67      0.65      0.65      5764\n",
      "       weighted avg       0.67      0.65      0.65      5764\n",
      "\n"
     ]
    }
   ],
   "source": [
    "gizmodeler.display_classifier_accuracy()"
   ]
  },
  {
   "cell_type": "code",
   "execution_count": null,
   "metadata": {},
   "outputs": [],
   "source": []
  }
 ],
 "metadata": {
  "kernelspec": {
   "display_name": "Python 3",
   "language": "python",
   "name": "python3"
  },
  "language_info": {
   "codemirror_mode": {
    "name": "ipython",
    "version": 3
   },
   "file_extension": ".py",
   "mimetype": "text/x-python",
   "name": "python",
   "nbconvert_exporter": "python",
   "pygments_lexer": "ipython3",
   "version": "3.7.3"
  }
 },
 "nbformat": 4,
 "nbformat_minor": 4
}
