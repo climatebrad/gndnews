{
 "cells": [
  {
   "cell_type": "code",
   "execution_count": 1,
   "metadata": {},
   "outputs": [
    {
     "name": "stderr",
     "output_type": "stream",
     "text": [
      "Using TensorFlow backend.\n"
     ]
    }
   ],
   "source": [
    "%load_ext autoreload\n",
    "%autoreload 2\n",
    "from configparser import ConfigParser\n",
    "import topic_modeler.modeler\n",
    "import topic_modeler.clustering\n",
    "import topic_modeler.modeling\n",
    "import topic_modeler.newsifier\n",
    "import importlib\n",
    "importlib.reload(topic_modeler.clustering)\n",
    "importlib.reload(topic_modeler.modeling)\n",
    "importlib.reload(topic_modeler.newsifier)\n",
    "importlib.reload(topic_modeler.modeler)\n",
    "from topic_modeler.modeler import Modeler\n",
    "import json\n",
    "import pandas as pd"
   ]
  },
  {
   "cell_type": "code",
   "execution_count": 2,
   "metadata": {},
   "outputs": [],
   "source": [
    "cfg = ConfigParser()\n",
    "cfg.read('topic_modeler/settings.ini')\n",
    "cluster_cfg = cfg['CLUSTERING']"
   ]
  },
  {
   "cell_type": "code",
   "execution_count": null,
   "metadata": {},
   "outputs": [],
   "source": [
    "modeler = Modeler()"
   ]
  },
  {
   "cell_type": "code",
   "execution_count": null,
   "metadata": {},
   "outputs": [],
   "source": [
    "clf = Pipeline([\n",
    "            ('tfidf', modeler.article_vectorizer),\n",
    "            ('clf', modeler.classifier),\n",
    "        ])\n",
    "cluster_names = json.loads(cluster_cfg['CLUSTER_NAMES'])"
   ]
  },
  {
   "cell_type": "code",
   "execution_count": null,
   "metadata": {},
   "outputs": [],
   "source": [
    "def sorted_cluster_predictions(text):\n",
    "    return [\n",
    "             { 'topic' : k,  'prob' : v } for k, v in sorted(\n",
    "                { cluster_names[i] : x \n",
    "                                for i, x in enumerate(\n",
    "                                    clf.predict_proba(\n",
    "                                        [text]\n",
    "                                    )[0]\n",
    "                                ) \n",
    "                }.items(),\n",
    "                key=lambda item: item[1],\n",
    "                reverse=True)\n",
    "    ]\n",
    "\n",
    "import re\n",
    "import requests\n",
    "def predict_url(url):\n",
    "    print(url)\n",
    "    text = text_from_html(requests.get(url).content)\n",
    "    formatted_predictor(text)\n",
    "    \n",
    "def text_from_html(body):\n",
    "    soup = BeautifulSoup(body, 'html.parser')\n",
    "    texts = soup.findAll(text=True)\n",
    "    return u\" \".join(t.strip() for t in texts)\n",
    "\n",
    "\n",
    "def formatted_predictor(text):\n",
    "    ignore = ('Biology and Climate')\n",
    "    general = ('General Climate')\n",
    "    predictions = sorted_cluster_predictions(text)\n",
    "    top = predictions.pop(0)\n",
    "    while top['topic'] in ignore:\n",
    "        top = predictions.pop(0)\n",
    "    if (top['topic'] in general and top['prob'] < .32) or (top['prob'] < .1):\n",
    "        print(\"This is probably not about climate.\")\n",
    "        print(f\"(The best-scoring topic is {top['topic']} at {top['prob']:.2%})\")\n",
    "        return\n",
    "    if top['prob'] > .9:\n",
    "            print(f\"This is almost definitely about {top['topic']} ({top['prob']:.2%}).\")\n",
    "    else:\n",
    "        print(f\"The best-scoring topic is {top['topic']} at {top['prob']:.2%}\")\n",
    "    top = predictions.pop(0)\n",
    "    while top['prob'] > .05:\n",
    "        if top['topic'] not in ignore:\n",
    "            print(f\"* {top['topic']} ({top['prob']:.2%})\")\n",
    "        top = predictions.pop(0)"
   ]
  }
 ],
 "metadata": {
  "kernelspec": {
   "display_name": "Python 3",
   "language": "python",
   "name": "python3"
  },
  "language_info": {
   "codemirror_mode": {
    "name": "ipython",
    "version": 3
   },
   "file_extension": ".py",
   "mimetype": "text/x-python",
   "name": "python",
   "nbconvert_exporter": "python",
   "pygments_lexer": "ipython3",
   "version": "3.7.3"
  }
 },
 "nbformat": 4,
 "nbformat_minor": 4
}
